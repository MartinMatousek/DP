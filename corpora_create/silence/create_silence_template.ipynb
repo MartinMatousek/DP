{
 "cells": [
  {
   "cell_type": "code",
   "execution_count": null,
   "id": "7f70c4ea",
   "metadata": {},
   "outputs": [],
   "source": [
    "from pydub import AudioSegment\n",
    "import json\n",
    "import numpy\n",
    "from scipy.io.wavfile import read\n",
    "from scipy.io.wavfile import write\n",
    "from IPython.display import Audio\n",
    "import soundfile as sf\n",
    "\n",
    "f = open('s1.json')\n",
    "  \n",
    "data = json.load(f)\n",
    "\n",
    "for i in data:\n",
    "    a = read(i[0])\n",
    "    a = AudioSegment.from_wav(i[0])\n",
    "    s = AudioSegment.silent(a.duration_seconds*1000)\n",
    "    new = i[0].replace(\"D:\\\\DP_files\\\\WHAMwav\\\\wav8k\\\\min\\\\tr\\\\s1\\\\\", \"D:\\\\DP_files\\\\WHAMwav\\\\wav8k\\\\min\\\\tr\\\\silence_s1\\\\\")\n",
    "    rate=8000\n",
    "    s.export(out_f=new, format='wav')\n",
    "    print(new)\n",
    "f.close()\n",
    "\n",
    "f = open('s2.json')\n",
    "  \n",
    "data = json.load(f)\n",
    "\n",
    "for i in data:\n",
    "    a = read(i[0])\n",
    "    a = AudioSegment.from_wav(i[0])\n",
    "    s = AudioSegment.silent(a.duration_seconds*1000)\n",
    "    new = i[0].replace(\"D:\\\\DP_files\\\\WHAMwav\\\\wav8k\\\\min\\\\tr\\\\s2\\\\\", \"D:\\\\DP_files\\\\WHAMwav\\\\wav8k\\\\min\\\\tr\\\\silence_s2\\\\\")\n",
    "    rate=8000\n",
    "    s.export(out_f=new, format='wav')\n",
    "    print(new)\n",
    "f.close()"
   ]
  },
  {
   "cell_type": "code",
   "execution_count": null,
   "id": "8dc67f45",
   "metadata": {},
   "outputs": [],
   "source": []
  }
 ],
 "metadata": {
  "kernelspec": {
   "display_name": "Python 3 (ipykernel)",
   "language": "python",
   "name": "python3"
  },
  "language_info": {
   "codemirror_mode": {
    "name": "ipython",
    "version": 3
   },
   "file_extension": ".py",
   "mimetype": "text/x-python",
   "name": "python",
   "nbconvert_exporter": "python",
   "pygments_lexer": "ipython3",
   "version": "3.9.12"
  }
 },
 "nbformat": 4,
 "nbformat_minor": 5
}
