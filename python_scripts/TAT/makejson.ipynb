{
 "cells": [
  {
   "cell_type": "code",
   "execution_count": 1,
   "id": "b84e8006",
   "metadata": {},
   "outputs": [],
   "source": [
    "import os\n",
    "import json\n",
    "import random\n",
    "import shutil\n",
    "from utils import wavwrite, read_scaled_wav, fix_length, preprocess\n",
    "from random import randrange\n",
    "\n",
    "tat_dir = \"D:/DP_files/TAT-2mix/min/\"\n",
    "json_dir = \"D:/DP_files/TAT-2mix/jsons/\"\n",
    "\n",
    "preprocess(tat_dir, json_dir)"
   ]
  },
  {
   "cell_type": "code",
   "execution_count": null,
   "id": "9c66a6cd",
   "metadata": {},
   "outputs": [],
   "source": []
  }
 ],
 "metadata": {
  "kernelspec": {
   "display_name": "Python 3 (ipykernel)",
   "language": "python",
   "name": "python3"
  },
  "language_info": {
   "codemirror_mode": {
    "name": "ipython",
    "version": 3
   },
   "file_extension": ".py",
   "mimetype": "text/x-python",
   "name": "python",
   "nbconvert_exporter": "python",
   "pygments_lexer": "ipython3",
   "version": "3.9.12"
  }
 },
 "nbformat": 4,
 "nbformat_minor": 5
}
